{
 "cells": [
  {
   "cell_type": "code",
   "execution_count": 1,
   "metadata": {
    "collapsed": true
   },
   "outputs": [],
   "source": [
    "import pandas as pd\n",
    "import datetime\n",
    "\n",
    "# read in data\n",
    "sensor_census = pd.read_csv('../data/subset_with_sensor_locations_and_census.csv')\n",
    "\n",
    "# extract month from dates and add to dataframe\n",
    "sensor_census['month'] = pd.Series(sensor_census['date'].map(lambda x: datetime.datetime.strptime(x, \"%Y-%m-%d\").month))\n",
    "\n",
    "# add interaction between lat and long\n",
    "sensor_census['lat_long_int'] = pd.Series(sensor_census['Lat'] * sensor_census['Lon'])\n",
    "\n",
    "# convert months to dummy cols\n",
    "sensor_census = pd.get_dummies(sensor_census, columns = ['month'])\n",
    "\n",
    "# have year start at year zero\n",
    "sensor_census['year'] = sensor_census['year'] - sensor_census['year'].min()\n",
    "\n",
    "# keep rows where continental_ind == 1\n",
    "sensor_census = sensor_census[sensor_census['Continental_ind'] == 1]\n",
    "\n",
    "# drop census count data and keep proportions; drop city, state, county, zip, country, date;\n",
    "# drop REANALYSIS_windspeed_10m_1Day because all missing\n",
    "sensor_census = sensor_census.drop(['White', 'Black', 'Native', 'Asian', 'Islander', 'Other', 'Two', 'Hispanic', \n",
    "    'Age_0_to_9', 'Age_10_to_19', 'Age_20_to_29','Age_30_to_39','Age_40_to_49','Age_50_to_59','Age_60_to_69', 'Age_70_plus', \n",
    "    'Income_less_than_25k', 'Income_25k_to_50k', 'Income_25k_to_50k', 'Income_50k_to_75k', 'Income_75k_to_100k', 'Income_100k_to_150k', 'Income_150k_to_200k', 'Income_200k_or_more',\n",
    "    'Households', 'Family_Households', 'City', 'State', 'County', 'Zip', 'Country', 'date', 'REANALYSIS_windspeed_10m_1Day'], axis = 1)\n",
    "\n",
    "# going to try to impute in R, so saving and reloading in R\n",
    "sensor_census.to_csv('../data/subset_sensor_census_toImpute.csv', index = False)"
   ]
  }
 ],
 "metadata": {
  "kernelspec": {
   "display_name": "Python 3.5.3",
   "language": "python",
   "name": "py35"
  },
  "language_info": {
   "codemirror_mode": {
    "name": "ipython",
    "version": 3
   },
   "file_extension": ".py",
   "mimetype": "text/x-python",
   "name": "python",
   "nbconvert_exporter": "python",
   "pygments_lexer": "ipython3",
   "version": "3.5.4"
  }
 },
 "nbformat": 4,
 "nbformat_minor": 2
}
