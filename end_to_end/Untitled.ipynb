{
 "cells": [
  {
   "cell_type": "code",
   "execution_count": null,
   "metadata": {},
   "outputs": [],
   "source": [
    "import pandas as pd\n",
    "import numpy as np\n",
    "from data_split_utils import X_y_site_split\n",
    "import sklearn.linear_model\n",
    "import sklearn.metrics\n",
    "import sklearn.preprocessing\n",
    "\n",
    "train = pd.read_csv('../data/train_ridgeImp.csv')\n",
    "test = pd.read_csv('../data/test_ridgeImp.csv')\n",
    "\n",
    "train = train.dropna(axis = 0)\n",
    "test = test.dropna(axis = 0)\n",
    "\n",
    "train_x, train_y, train_sites = X_y_site_split(train, y_var_name='MonitorData', site_var_name='site')\n",
    "test_x, test_y, test_sites = X_y_site_split(test, y_var_name='MonitorData', site_var_name='site')\n",
    "\n",
    "poly_transformer = sklearn.preprocessing.PolynomialFeatures(degree=2, interaction_only=False, include_bias=False)\n",
    "train_x = poly_transformer.fit_transform(train_x)\n",
    "test_x = poly_transformer.fit_transform(test_x)\n",
    "\n",
    "alpha = 0.1\n",
    "ridge = sklearn.linear_model.Ridge(random_state = 1, normalize=True, alpha = alpha)\n",
    "ridge.fit(train_x, train_y)\n",
    "test_pred_ridge = ridge.predict(test_x)\n",
    "test_r2_ridge = sklearn.metrics.r2_score(test_y, test_pred_ridge)\n",
    "print('Regularization hyperparameter: ' + str(alpha))\n",
    "print('Test R^2: ' + str(test_r2_ridge))"
   ]
  },
  {
   "cell_type": "code",
   "execution_count": 3,
   "metadata": {},
   "outputs": [
    {
     "data": {
      "text/plain": [
       "(362013, 1829)"
      ]
     },
     "execution_count": 3,
     "metadata": {},
     "output_type": "execute_result"
    }
   ],
   "source": [
    "train_x.shape"
   ]
  }
 ],
 "metadata": {
  "kernelspec": {
   "display_name": "Python 3.5.3",
   "language": "python",
   "name": "py35"
  },
  "language_info": {
   "codemirror_mode": {
    "name": "ipython",
    "version": 3
   },
   "file_extension": ".py",
   "mimetype": "text/x-python",
   "name": "python",
   "nbconvert_exporter": "python",
   "pygments_lexer": "ipython3",
   "version": "3.5.4"
  }
 },
 "nbformat": 4,
 "nbformat_minor": 2
}
