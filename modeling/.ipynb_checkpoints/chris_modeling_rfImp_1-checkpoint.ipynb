{
 "cells": [
  {
   "cell_type": "code",
   "execution_count": 57,
   "metadata": {},
   "outputs": [],
   "source": [
    "import pandas as pd\n",
    "import numpy as np\n",
    "import sklearn\n",
    "import sklearn.preprocessing\n",
    "import sklearn.linear_model\n",
    "import sklearn.model_selection\n",
    "import sklearn.metrics\n",
    "import sklearn.ensemble\n",
    "from pygam import LinearGAM\n",
    "import warnings\n",
    "warnings.filterwarnings('ignore')"
   ]
  },
  {
   "cell_type": "code",
   "execution_count": 32,
   "metadata": {
    "collapsed": true
   },
   "outputs": [],
   "source": [
    "# read in imputed data\n",
    "sensor_census_imp = pd.read_csv('../data/sensor_census_imputed_rf.csv')"
   ]
  },
  {
   "cell_type": "code",
   "execution_count": 33,
   "metadata": {},
   "outputs": [],
   "source": [
    "np.random.seed(1)\n",
    "\n",
    "# get sites for test data\n",
    "test_sites = np.random.choice(np.unique(sensor_census_imp['site'].values), round(len(np.unique(sensor_census_imp['site'].values))/6), replace = False)\n",
    "\n",
    "# train sites/rows and x/y split\n",
    "sensor_census_imp_train = sensor_census_imp[~sensor_census_imp['site'].isin(test_sites)]\n",
    "sensor_census_imp_train_x = sensor_census_imp_train.iloc[:, 2:]\n",
    "sensor_census_imp_train_y = sensor_census_imp_train.iloc[:, 1]\n",
    "\n",
    "# test sites/rows and x/y split\n",
    "sensor_census_imp_test = sensor_census_imp[sensor_census_imp['site'].isin(test_sites)]\n",
    "sensor_census_imp_test_x = sensor_census_imp_test.iloc[:, 2:]\n",
    "sensor_census_imp_test_y = sensor_census_imp_test.iloc[:, 1]\n",
    "\n",
    "# standardize train and test data\n",
    "standardizer = sklearn.preprocessing.StandardScaler(with_mean = True, with_std = True)\n",
    "sensor_census_imp_train_x_stand = standardizer.fit_transform(sensor_census_imp_train_x)\n",
    "sensor_census_imp_test_x_stand = standardizer.transform(sensor_census_imp_test_x)"
   ]
  },
  {
   "cell_type": "code",
   "execution_count": 34,
   "metadata": {},
   "outputs": [
    {
     "name": "stdout",
     "output_type": "stream",
     "text": [
      "{'alpha': 10}\n"
     ]
    },
    {
     "data": {
      "text/plain": [
       "0.76663525561902179"
      ]
     },
     "execution_count": 34,
     "metadata": {},
     "output_type": "execute_result"
    }
   ],
   "source": [
    "# ridge tuning\n",
    "ridge = sklearn.linear_model.Ridge(random_state = 1)\n",
    "\n",
    "parameter_grid_ridge = {'alpha' : [1000, 100, 10, 1, 0.1, 0.01, 0.001, 0.0001]}\n",
    "\n",
    "grid_ridge = sklearn.model_selection.GridSearchCV(ridge, parameter_grid_ridge, cv = 10, refit = 'r2')\n",
    "grid_ridge.fit(sensor_census_imp_train_x_stand, sensor_census_imp_train_y.values)\n",
    "test_pred_ridge = grid_ridge.predict(sensor_census_imp_test_x_stand)\n",
    "test_r2_ridge = sklearn.metrics.r2_score(sensor_census_imp_test_y.values, test_pred_ridge)\n",
    "print(grid_ridge.best_params_)\n",
    "test_r2_ridge"
   ]
  },
  {
   "cell_type": "code",
   "execution_count": 35,
   "metadata": {},
   "outputs": [
    {
     "name": "stdout",
     "output_type": "stream",
     "text": [
      "{'alpha': 0.001}\n"
     ]
    },
    {
     "data": {
      "text/plain": [
       "0.76687017097542165"
      ]
     },
     "execution_count": 35,
     "metadata": {},
     "output_type": "execute_result"
    }
   ],
   "source": [
    "# lasso tuning\n",
    "lasso = sklearn.linear_model.Lasso(random_state = 1, tol = 1e-3, max_iter = 5000)\n",
    "\n",
    "parameter_grid_lasso = {'alpha' : [1000, 100, 10, 1, 0.1, 0.01, 0.001, 0.0001]}\n",
    "\n",
    "grid_lasso = sklearn.model_selection.GridSearchCV(lasso, parameter_grid_lasso, cv = 10, refit = 'r2')\n",
    "grid_lasso.fit(sensor_census_imp_train_x_stand, sensor_census_imp_train_y.values)\n",
    "test_pred_lasso = grid_lasso.predict(sensor_census_imp_test_x_stand)\n",
    "test_r2_lasso = sklearn.metrics.r2_score(sensor_census_imp_test_y.values, test_pred_lasso)\n",
    "print(grid_lasso.best_params_)\n",
    "test_r2_lasso"
   ]
  },
  {
   "cell_type": "code",
   "execution_count": null,
   "metadata": {
    "scrolled": true
   },
   "outputs": [
    {
     "name": "stderr",
     "output_type": "stream",
     "text": [
      "[Parallel(n_jobs=2)]: Done  46 tasks      | elapsed:    6.3s\n",
      "[Parallel(n_jobs=2)]: Done 100 out of 100 | elapsed:   13.7s finished\n",
      "[Parallel(n_jobs=2)]: Done  46 tasks      | elapsed:    0.0s\n",
      "[Parallel(n_jobs=2)]: Done 100 out of 100 | elapsed:    0.0s finished\n",
      "[Parallel(n_jobs=2)]: Done  46 tasks      | elapsed:    0.0s\n",
      "[Parallel(n_jobs=2)]: Done 100 out of 100 | elapsed:    0.0s finished\n",
      "[Parallel(n_jobs=2)]: Done  46 tasks      | elapsed:    6.7s\n",
      "[Parallel(n_jobs=2)]: Done 100 out of 100 | elapsed:   13.6s finished\n",
      "[Parallel(n_jobs=2)]: Done  46 tasks      | elapsed:    0.0s\n",
      "[Parallel(n_jobs=2)]: Done 100 out of 100 | elapsed:    0.0s finished\n",
      "[Parallel(n_jobs=2)]: Done  46 tasks      | elapsed:    0.0s\n",
      "[Parallel(n_jobs=2)]: Done 100 out of 100 | elapsed:    0.1s finished\n",
      "[Parallel(n_jobs=2)]: Done  46 tasks      | elapsed:    6.1s\n",
      "[Parallel(n_jobs=2)]: Done 100 out of 100 | elapsed:   13.4s finished\n",
      "[Parallel(n_jobs=2)]: Done  46 tasks      | elapsed:    0.0s\n",
      "[Parallel(n_jobs=2)]: Done 100 out of 100 | elapsed:    0.0s finished\n",
      "[Parallel(n_jobs=2)]: Done  46 tasks      | elapsed:    0.0s\n",
      "[Parallel(n_jobs=2)]: Done 100 out of 100 | elapsed:    0.1s finished\n",
      "[Parallel(n_jobs=2)]: Done  46 tasks      | elapsed:    6.1s\n",
      "[Parallel(n_jobs=2)]: Done 100 out of 100 | elapsed:   13.3s finished\n",
      "[Parallel(n_jobs=2)]: Done  46 tasks      | elapsed:    0.0s\n",
      "[Parallel(n_jobs=2)]: Done 100 out of 100 | elapsed:    0.0s finished\n",
      "[Parallel(n_jobs=2)]: Done  46 tasks      | elapsed:    0.0s\n",
      "[Parallel(n_jobs=2)]: Done 100 out of 100 | elapsed:    0.1s finished\n",
      "[Parallel(n_jobs=2)]: Done  46 tasks      | elapsed:    7.8s\n",
      "[Parallel(n_jobs=2)]: Done 100 out of 100 | elapsed:   17.4s finished\n",
      "[Parallel(n_jobs=2)]: Done  46 tasks      | elapsed:    0.0s\n",
      "[Parallel(n_jobs=2)]: Done 100 out of 100 | elapsed:    0.0s finished\n",
      "[Parallel(n_jobs=2)]: Done  46 tasks      | elapsed:    0.0s\n",
      "[Parallel(n_jobs=2)]: Done 100 out of 100 | elapsed:    0.1s finished\n",
      "[Parallel(n_jobs=2)]: Done  46 tasks      | elapsed:    8.8s\n",
      "[Parallel(n_jobs=2)]: Done 100 out of 100 | elapsed:   18.9s finished\n",
      "[Parallel(n_jobs=2)]: Done  46 tasks      | elapsed:    0.0s\n",
      "[Parallel(n_jobs=2)]: Done 100 out of 100 | elapsed:    0.0s finished\n",
      "[Parallel(n_jobs=2)]: Done  46 tasks      | elapsed:    0.0s\n",
      "[Parallel(n_jobs=2)]: Done 100 out of 100 | elapsed:    0.1s finished\n",
      "[Parallel(n_jobs=2)]: Done  46 tasks      | elapsed:    8.0s\n",
      "[Parallel(n_jobs=2)]: Done 100 out of 100 | elapsed:   17.3s finished\n",
      "[Parallel(n_jobs=2)]: Done  46 tasks      | elapsed:    0.0s\n",
      "[Parallel(n_jobs=2)]: Done 100 out of 100 | elapsed:    0.0s finished\n",
      "[Parallel(n_jobs=2)]: Done  46 tasks      | elapsed:    0.0s\n",
      "[Parallel(n_jobs=2)]: Done 100 out of 100 | elapsed:    0.0s finished\n",
      "[Parallel(n_jobs=2)]: Done  46 tasks      | elapsed:    7.8s\n",
      "[Parallel(n_jobs=2)]: Done 100 out of 100 | elapsed:   16.9s finished\n",
      "[Parallel(n_jobs=2)]: Done  46 tasks      | elapsed:    0.0s\n",
      "[Parallel(n_jobs=2)]: Done 100 out of 100 | elapsed:    0.0s finished\n",
      "[Parallel(n_jobs=2)]: Done  46 tasks      | elapsed:    0.0s\n",
      "[Parallel(n_jobs=2)]: Done 100 out of 100 | elapsed:    0.0s finished\n",
      "[Parallel(n_jobs=2)]: Done  46 tasks      | elapsed:    9.4s\n"
     ]
    }
   ],
   "source": [
    "# rf tuning\n",
    "rf = sklearn.ensemble.RandomForestRegressor(n_estimators = 100, random_state = 1, n_jobs = 2, verbose = 1)\n",
    "\n",
    "parameter_grid_rf = {'max_features' : [40, 50, 60, 70, 80]}\n",
    "\n",
    "grid_rf = sklearn.model_selection.GridSearchCV(rf, parameter_grid_rf, cv = 4, refit = 'r2')\n",
    "grid_rf.fit(sensor_census_imp_train_x_stand, sensor_census_imp_train_y.values)\n",
    "test_pred_rf = grid_rf.predict(sensor_census_imp_test_x_stand)\n",
    "test_r2_rf = sklearn.metrics.r2_score(sensor_census_imp_test_y.values, test_pred_rf)\n",
    "print(grid_rf.best_params_)\n",
    "test_r2_rf"
   ]
  },
  {
   "cell_type": "code",
   "execution_count": 61,
   "metadata": {},
   "outputs": [
    {
     "name": "stderr",
     "output_type": "stream",
     "text": [
      "N/A% (0 of 8) |                          | Elapsed Time: 0:00:00 ETA:  --:--:--C:\\Users\\Christopher\\Anaconda3\\envs\\py35\\lib\\site-packages\\pygam\\pygam.py:1187: UserWarning: detected catergorical data for feature 119\n",
      "  self._validate_data_dep_params(X)\n",
      "C:\\Users\\Christopher\\Anaconda3\\envs\\py35\\lib\\site-packages\\pygam\\utils.py:69: UserWarning: Could not import Scikit-Sparse or Suite-Sparse.\n",
      "This will slow down optimization for models with monotonicity/convexity penalties and many splines.\n",
      "See installation instructions for installing Scikit-Sparse and Suite-Sparse via Conda.\n",
      "  warnings.warn(msg)\n",
      " 12% (1 of 8) |###                        | Elapsed Time: 0:00:07 ETA:  0:00:50C:\\Users\\Christopher\\Anaconda3\\envs\\py35\\lib\\site-packages\\pygam\\pygam.py:1187: UserWarning: detected catergorical data for feature 119\n",
      "  self._validate_data_dep_params(X)\n",
      "C:\\Users\\Christopher\\Anaconda3\\envs\\py35\\lib\\site-packages\\pygam\\utils.py:69: UserWarning: Could not import Scikit-Sparse or Suite-Sparse.\n",
      "This will slow down optimization for models with monotonicity/convexity penalties and many splines.\n",
      "See installation instructions for installing Scikit-Sparse and Suite-Sparse via Conda.\n",
      "  warnings.warn(msg)\n",
      " 25% (2 of 8) |######                     | Elapsed Time: 0:02:06 ETA:  0:11:58C:\\Users\\Christopher\\Anaconda3\\envs\\py35\\lib\\site-packages\\pygam\\pygam.py:1187: UserWarning: detected catergorical data for feature 119\n",
      "  self._validate_data_dep_params(X)\n",
      "C:\\Users\\Christopher\\Anaconda3\\envs\\py35\\lib\\site-packages\\pygam\\utils.py:69: UserWarning: Could not import Scikit-Sparse or Suite-Sparse.\n",
      "This will slow down optimization for models with monotonicity/convexity penalties and many splines.\n",
      "See installation instructions for installing Scikit-Sparse and Suite-Sparse via Conda.\n",
      "  warnings.warn(msg)\n",
      " 37% (3 of 8) |##########                 | Elapsed Time: 0:02:15 ETA:  0:00:41C:\\Users\\Christopher\\Anaconda3\\envs\\py35\\lib\\site-packages\\pygam\\pygam.py:1187: UserWarning: detected catergorical data for feature 119\n",
      "  self._validate_data_dep_params(X)\n",
      "C:\\Users\\Christopher\\Anaconda3\\envs\\py35\\lib\\site-packages\\pygam\\utils.py:69: UserWarning: Could not import Scikit-Sparse or Suite-Sparse.\n",
      "This will slow down optimization for models with monotonicity/convexity penalties and many splines.\n",
      "See installation instructions for installing Scikit-Sparse and Suite-Sparse via Conda.\n",
      "  warnings.warn(msg)\n",
      " 50% (4 of 8) |#############              | Elapsed Time: 0:04:21 ETA:  0:08:25C:\\Users\\Christopher\\Anaconda3\\envs\\py35\\lib\\site-packages\\pygam\\pygam.py:1187: UserWarning: detected catergorical data for feature 119\n",
      "  self._validate_data_dep_params(X)\n",
      "C:\\Users\\Christopher\\Anaconda3\\envs\\py35\\lib\\site-packages\\pygam\\utils.py:69: UserWarning: Could not import Scikit-Sparse or Suite-Sparse.\n",
      "This will slow down optimization for models with monotonicity/convexity penalties and many splines.\n",
      "See installation instructions for installing Scikit-Sparse and Suite-Sparse via Conda.\n",
      "  warnings.warn(msg)\n",
      " 62% (5 of 8) |################           | Elapsed Time: 0:04:27 ETA:  0:00:16C:\\Users\\Christopher\\Anaconda3\\envs\\py35\\lib\\site-packages\\pygam\\pygam.py:1187: UserWarning: detected catergorical data for feature 119\n",
      "  self._validate_data_dep_params(X)\n",
      "C:\\Users\\Christopher\\Anaconda3\\envs\\py35\\lib\\site-packages\\pygam\\utils.py:69: UserWarning: Could not import Scikit-Sparse or Suite-Sparse.\n",
      "This will slow down optimization for models with monotonicity/convexity penalties and many splines.\n",
      "See installation instructions for installing Scikit-Sparse and Suite-Sparse via Conda.\n",
      "  warnings.warn(msg)\n",
      " 75% (6 of 8) |####################       | Elapsed Time: 0:06:18 ETA:  0:03:42C:\\Users\\Christopher\\Anaconda3\\envs\\py35\\lib\\site-packages\\pygam\\pygam.py:1187: UserWarning: detected catergorical data for feature 119\n",
      "  self._validate_data_dep_params(X)\n",
      "C:\\Users\\Christopher\\Anaconda3\\envs\\py35\\lib\\site-packages\\pygam\\utils.py:69: UserWarning: Could not import Scikit-Sparse or Suite-Sparse.\n",
      "This will slow down optimization for models with monotonicity/convexity penalties and many splines.\n",
      "See installation instructions for installing Scikit-Sparse and Suite-Sparse via Conda.\n",
      "  warnings.warn(msg)\n",
      " 87% (7 of 8) |#######################    | Elapsed Time: 0:06:23 ETA:  0:00:05C:\\Users\\Christopher\\Anaconda3\\envs\\py35\\lib\\site-packages\\pygam\\pygam.py:1187: UserWarning: detected catergorical data for feature 119\n",
      "  self._validate_data_dep_params(X)\n",
      "100% (132 of 132) |#######################| Elapsed Time: 0:09:41 Time: 0:09:41\n",
      "C:\\Users\\Christopher\\Anaconda3\\envs\\py35\\lib\\site-packages\\pygam\\utils.py:69: UserWarning: Could not import Scikit-Sparse or Suite-Sparse.\n",
      "This will slow down optimization for models with monotonicity/convexity penalties and many splines.\n",
      "See installation instructions for installing Scikit-Sparse and Suite-Sparse via Conda.\n",
      "  warnings.warn(msg)\n",
      "100% (8 of 8) |###########################| Elapsed Time: 0:08:17 Time: 0:08:17\n"
     ]
    },
    {
     "ename": "AttributeError",
     "evalue": "'collections.OrderedDict' object has no attribute 'predict'",
     "output_type": "error",
     "traceback": [
      "\u001b[1;31m---------------------------------------------------------------------------\u001b[0m",
      "\u001b[1;31mAttributeError\u001b[0m                            Traceback (most recent call last)",
      "\u001b[1;32m<ipython-input-61-646ebf2c1650>\u001b[0m in \u001b[0;36m<module>\u001b[1;34m()\u001b[0m\n\u001b[0;32m      6\u001b[0m                                  keep_best = True, **param_grid_gam)\n\u001b[0;32m      7\u001b[0m \u001b[1;33m\u001b[0m\u001b[0m\n\u001b[1;32m----> 8\u001b[1;33m \u001b[0mtest_pred_gam\u001b[0m \u001b[1;33m=\u001b[0m \u001b[0mgam\u001b[0m\u001b[1;33m.\u001b[0m\u001b[0mpredict\u001b[0m\u001b[1;33m(\u001b[0m\u001b[0msensor_census_imp_test_x_stand\u001b[0m\u001b[1;33m)\u001b[0m\u001b[1;33m\u001b[0m\u001b[0m\n\u001b[0m\u001b[0;32m      9\u001b[0m \u001b[0mtest_r2_gam\u001b[0m \u001b[1;33m=\u001b[0m \u001b[0msklearn\u001b[0m\u001b[1;33m.\u001b[0m\u001b[0mmetrics\u001b[0m\u001b[1;33m.\u001b[0m\u001b[0mr2_score\u001b[0m\u001b[1;33m(\u001b[0m\u001b[0msensor_census_imp_test_y\u001b[0m\u001b[1;33m.\u001b[0m\u001b[0mvalues\u001b[0m\u001b[1;33m,\u001b[0m \u001b[0mtest_pred_gam\u001b[0m\u001b[1;33m)\u001b[0m\u001b[1;33m\u001b[0m\u001b[0m\n\u001b[0;32m     10\u001b[0m \u001b[0mprint\u001b[0m\u001b[1;33m(\u001b[0m\u001b[0mgam\u001b[0m\u001b[1;33m.\u001b[0m\u001b[0msummary\u001b[0m\u001b[1;33m(\u001b[0m\u001b[1;33m)\u001b[0m\u001b[1;33m)\u001b[0m\u001b[1;33m\u001b[0m\u001b[0m\n",
      "\u001b[1;31mAttributeError\u001b[0m: 'collections.OrderedDict' object has no attribute 'predict'"
     ]
    }
   ],
   "source": [
    "# tuning gam\n",
    "param_grid_gam = {'lam': np.logspace(-3, 3, 11), 'n_splines' : [4, 7, 10, 13]}\n",
    "gam = LinearGAM(max_iter = 1000).gridsearch(X = sensor_census_imp_train_x_stand, y = sensor_census_imp_train_y.values, return_scores = True, objective = 'GCV',\n",
    "                                 keep_best = True, **param_grid_gam)\n",
    "\n",
    "test_pred_gam = gam.predict(sensor_census_imp_test_x_stand)\n",
    "test_r2_gam = sklearn.metrics.r2_score(sensor_census_imp_test_y.values, test_pred_gam)\n",
    "print(gam.summary())\n",
    "test_r2_gam"
   ]
  },
  {
   "cell_type": "code",
   "execution_count": 82,
   "metadata": {},
   "outputs": [
    {
     "data": {
      "text/plain": [
       "-0.023292442369208688"
      ]
     },
     "execution_count": 82,
     "metadata": {},
     "output_type": "execute_result"
    }
   ],
   "source": [
    "list(gam)[1].predict(sensor_census_imp_test_x_stand)\n",
    "test_r2_gam = sklearn.metrics.r2_score(sensor_census_imp_test_y.values, list(gam)[1].predict(sensor_census_imp_test_x_stand))\n",
    "test_r2_gam"
   ]
  },
  {
   "cell_type": "code",
   "execution_count": 74,
   "metadata": {},
   "outputs": [
    {
     "data": {
      "text/plain": [
       "OrderedDict([(LinearGAM(callbacks=[Deviance(), Diffs()], constraints=None, \n",
       "                 dtype='auto', fit_intercept=True, fit_linear=True, \n",
       "                 fit_splines=True, lam=0.6, max_iter=1000, n_splines=5, \n",
       "                 penalties='auto', scale=None, spline_order=3, tol=0.0001),\n",
       "              63790.360333775985),\n",
       "             (LinearGAM(callbacks=[Deviance(), Diffs()], constraints=None, \n",
       "                 dtype='auto', fit_intercept=True, fit_linear=True, \n",
       "                 fit_splines=True, lam=0.6, max_iter=1000, n_splines=25, \n",
       "                 penalties='auto', scale=None, spline_order=3, tol=0.0001),\n",
       "              63335.250810711412),\n",
       "             (LinearGAM(callbacks=[Deviance(), Diffs()], constraints=None, \n",
       "                 dtype='auto', fit_intercept=True, fit_linear=True, \n",
       "                 fit_splines=True, lam=0.8, max_iter=1000, n_splines=5, \n",
       "                 penalties='auto', scale=None, spline_order=3, tol=0.0001),\n",
       "              63808.467815804062),\n",
       "             (LinearGAM(callbacks=[Deviance(), Diffs()], constraints=None, \n",
       "                 dtype='auto', fit_intercept=True, fit_linear=True, \n",
       "                 fit_splines=True, lam=0.8, max_iter=1000, n_splines=25, \n",
       "                 penalties='auto', scale=None, spline_order=3, tol=0.0001),\n",
       "              63322.196771961564),\n",
       "             (LinearGAM(callbacks=[Deviance(), Diffs()], constraints=None, \n",
       "                 dtype='auto', fit_intercept=True, fit_linear=False, \n",
       "                 fit_splines=True, lam=0.6, max_iter=1000, n_splines=5, \n",
       "                 penalties='auto', scale=None, spline_order=3, tol=0.0001),\n",
       "              63790.360313323785),\n",
       "             (LinearGAM(callbacks=[Deviance(), Diffs()], constraints=None, \n",
       "                 dtype='auto', fit_intercept=True, fit_linear=False, \n",
       "                 fit_splines=True, lam=0.6, max_iter=1000, n_splines=25, \n",
       "                 penalties='auto', scale=None, spline_order=3, tol=0.0001),\n",
       "              63335.250735362133),\n",
       "             (LinearGAM(callbacks=[Deviance(), Diffs()], constraints=None, \n",
       "                 dtype='auto', fit_intercept=True, fit_linear=False, \n",
       "                 fit_splines=True, lam=0.8, max_iter=1000, n_splines=5, \n",
       "                 penalties='auto', scale=None, spline_order=3, tol=0.0001),\n",
       "              63808.467795343051),\n",
       "             (LinearGAM(callbacks=[Deviance(), Diffs()], constraints=None, \n",
       "                 dtype='auto', fit_intercept=True, fit_linear=False, \n",
       "                 fit_splines=True, lam=0.8, max_iter=1000, n_splines=25, \n",
       "                 penalties='auto', scale=None, spline_order=3, tol=0.0001),\n",
       "              63322.196704825408)])"
      ]
     },
     "execution_count": 74,
     "metadata": {},
     "output_type": "execute_result"
    }
   ],
   "source": [
    "gam"
   ]
  }
 ],
 "metadata": {
  "kernelspec": {
   "display_name": "Python 3.5.3",
   "language": "python",
   "name": "py35"
  },
  "language_info": {
   "codemirror_mode": {
    "name": "ipython",
    "version": 3
   },
   "file_extension": ".py",
   "mimetype": "text/x-python",
   "name": "python",
   "nbconvert_exporter": "python",
   "pygments_lexer": "ipython3",
   "version": "3.5.4"
  }
 },
 "nbformat": 4,
 "nbformat_minor": 2
}
