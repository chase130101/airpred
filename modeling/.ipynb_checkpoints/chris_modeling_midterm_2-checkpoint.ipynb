{
 "cells": [
  {
   "cell_type": "code",
   "execution_count": 16,
   "metadata": {},
   "outputs": [],
   "source": [
    "import torch\n",
    "from torch.autograd import Variable\n",
    "from torch.utils.data import DataLoader\n",
    "from torch.utils.data import TensorDataset\n",
    "import pandas as pd\n",
    "import numpy as np\n",
    "import sklearn.preprocessing"
   ]
  },
  {
   "cell_type": "code",
   "execution_count": 8,
   "metadata": {},
   "outputs": [],
   "source": [
    "# read in imputed data\n",
    "sensor_census_imp = pd.read_csv('../data/sensor_census_imputed_rf.csv')"
   ]
  },
  {
   "cell_type": "code",
   "execution_count": 18,
   "metadata": {},
   "outputs": [],
   "source": [
    "np.random.seed(1)\n",
    "\n",
    "# get sites for val/test data\n",
    "val_test_sites = np.random.choice(np.unique(sensor_census_imp['site'].values), round(len(np.unique(sensor_census_imp['site'].values))/5), replace = False)\n",
    "\n",
    "# get sites for test data\n",
    "test_sites = np.random.choice(np.unique(val_test_sites), round(len(np.unique(val_test_sites))/2), replace = False)\n",
    "\n",
    "# train sites/rows and x/y split\n",
    "sensor_census_imp_train = sensor_census_imp[~sensor_census_imp['site'].isin(val_test_sites)]\n",
    "sensor_census_imp_train_x = sensor_census_imp_train.iloc[:, 2:]\n",
    "sensor_census_imp_train_y = sensor_census_imp_train.iloc[:, 1]\n",
    "\n",
    "# val sites/rows and x/y split\n",
    "sensor_census_imp_val = sensor_census_imp[(sensor_census_imp['site'].isin(val_test_sites)) & (~sensor_census_imp['site'].isin(test_sites))]\n",
    "sensor_census_imp_val_x = sensor_census_imp_val.iloc[:, 2:]\n",
    "sensor_census_imp_val_y = sensor_census_imp_val.iloc[:, 1]\n",
    "\n",
    "# test sites/rows and x/y split\n",
    "sensor_census_imp_test = sensor_census_imp[sensor_census_imp['site'].isin(test_sites)]\n",
    "sensor_census_imp_test_x = sensor_census_imp_test.iloc[:, 2:]\n",
    "sensor_census_imp_test_y = sensor_census_imp_test.iloc[:, 1]\n",
    "\n",
    "# standardize train, val, and test data\n",
    "standardizer = sklearn.preprocessing.StandardScaler(with_mean = True, with_std = True)\n",
    "sensor_census_imp_train_x_stand = standardizer.fit_transform(sensor_census_imp_train_x)\n",
    "sensor_census_imp_val_x_stand = standardizer.transform(sensor_census_imp_val_x)\n",
    "sensor_census_imp_test_x_stand = standardizer.transform(sensor_census_imp_test_x)"
   ]
  },
  {
   "cell_type": "code",
   "execution_count": 17,
   "metadata": {},
   "outputs": [],
   "source": [
    "# create torch tensor tuples for train, val, test\n",
    "train = TensorDataset(torch.from_numpy(sensor_census_imp_train_x_stand), torch.from_numpy(sensor_census_imp_train_y.values))\n",
    "val = TensorDataset(torch.from_numpy(sensor_census_imp_val_x_stand), torch.from_numpy(sensor_census_imp_val_y.values))\n",
    "test = TensorDataset(torch.from_numpy(sensor_census_imp_test_x_stand), torch.from_numpy(sensor_census_imp_test_y.values))\n",
    "\n",
    "# create batches\n",
    "batch_size = 100\n",
    "train_loader = torch.utils.data.DataLoader(dataset = train, batch_size = batch_size, shuffle = True)\n",
    "validation_loader = torch.utils.data.DataLoader(dataset = val, batch_size = batch_size, shuffle = False)\n",
    "test_loader = torch.utils.data.DataLoader(dataset = test, batch_size = batch_size, shuffle = False)"
   ]
  },
  {
   "cell_type": "code",
   "execution_count": null,
   "metadata": {
    "collapsed": true
   },
   "outputs": [],
   "source": [
    "# model architecture\n",
    "ff_nn = torch.nn.Linear(in_features = sensor_census_imp_train_x_stand.shape[1], out_features = 100, bias = True) # linear layer\n",
    "ff_nn.add_module('norm', torch.nn.BatchNorm1d(num_features = 100)) # normalize before tanh\n",
    "ff_nn.add_module(name = 'tanh', module = torch.nn.Tanh()) # tanh function for hidden layer\n",
    "ff_nn.add_module(name = '2nd linear', module = torch.nn.Linear(in_features = 100, out_features = 1, bias = True)) # 2nd linear layer"
   ]
  }
 ],
 "metadata": {
  "kernelspec": {
   "display_name": "Python 3.5.3",
   "language": "python",
   "name": "py35"
  },
  "language_info": {
   "codemirror_mode": {
    "name": "ipython",
    "version": 3
   },
   "file_extension": ".py",
   "mimetype": "text/x-python",
   "name": "python",
   "nbconvert_exporter": "python",
   "pygments_lexer": "ipython3",
   "version": "3.5.4"
  }
 },
 "nbformat": 4,
 "nbformat_minor": 2
}
